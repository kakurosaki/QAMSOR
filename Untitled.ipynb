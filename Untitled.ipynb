{
 "cells": [
  {
   "cell_type": "code",
   "execution_count": 1,
   "id": "0ddd0553-5cee-46e2-bced-4846593613d9",
   "metadata": {},
   "outputs": [
    {
     "name": "stderr",
     "output_type": "stream",
     "text": [
      "Traceback (most recent call last):\n",
      "  File \"C:\\Users\\ACER\\Downloads\\QAMSOR PROJ\\main.py\", line 3, in <module>\n",
      "    from train_arima import rolling_window_arima\n",
      "  File \"C:\\Users\\ACER\\Downloads\\QAMSOR PROJ\\train_arima.py\", line 2, in <module>\n",
      "    from pmdarima import auto_arima\n",
      "  File \"C:\\Users\\ACER\\Downloads\\QAMSOR PROJ\\.venv\\Lib\\site-packages\\pmdarima\\__init__.py\", line 52, in <module>\n",
      "    from .arima import auto_arima, ARIMA, AutoARIMA, StepwiseContext, decompose\n",
      "  File \"C:\\Users\\ACER\\Downloads\\QAMSOR PROJ\\.venv\\Lib\\site-packages\\pmdarima\\arima\\__init__.py\", line 5, in <module>\n",
      "    from .approx import *\n",
      "  File \"C:\\Users\\ACER\\Downloads\\QAMSOR PROJ\\.venv\\Lib\\site-packages\\pmdarima\\arima\\approx.py\", line 9, in <module>\n",
      "    from ..utils.array import c, check_endog\n",
      "  File \"C:\\Users\\ACER\\Downloads\\QAMSOR PROJ\\.venv\\Lib\\site-packages\\pmdarima\\utils\\__init__.py\", line 5, in <module>\n",
      "    from .array import *\n",
      "  File \"C:\\Users\\ACER\\Downloads\\QAMSOR PROJ\\.venv\\Lib\\site-packages\\pmdarima\\utils\\array.py\", line 13, in <module>\n",
      "    from ._array import C_intgrt_vec\n",
      "  File \"pmdarima\\\\utils\\\\_array.pyx\", line 1, in init pmdarima.utils._array\n",
      "ValueError: numpy.dtype size changed, may indicate binary incompatibility. Expected 96 from C header, got 88 from PyObject\n"
     ]
    }
   ],
   "source": [
    "!python main.py"
   ]
  },
  {
   "cell_type": "code",
   "execution_count": null,
   "id": "20512fdd-3810-427f-8ad9-ec3afce3dd4d",
   "metadata": {},
   "outputs": [],
   "source": []
  }
 ],
 "metadata": {
  "kernelspec": {
   "display_name": "Python (venv310)",
   "language": "python",
   "name": "venv310"
  },
  "language_info": {
   "codemirror_mode": {
    "name": "ipython",
    "version": 3
   },
   "file_extension": ".py",
   "mimetype": "text/x-python",
   "name": "python",
   "nbconvert_exporter": "python",
   "pygments_lexer": "ipython3",
   "version": "3.12.0"
  }
 },
 "nbformat": 4,
 "nbformat_minor": 5
}
